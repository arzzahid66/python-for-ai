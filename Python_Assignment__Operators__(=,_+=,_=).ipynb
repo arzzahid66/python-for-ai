{
  "cells": [
    {
      "cell_type": "markdown",
      "id": "new_notebook_title",
      "metadata": {
        "id": "new_notebook_title"
      },
      "source": [
        "# **📌Mastering Variable Assignment in Python: Assignment Operators (=, +=, -=)**\n",
        "\n",
        "\n",
        "**Course:** Python For AI\n"
      ]
    },
    {
      "cell_type": "markdown",
      "id": "new_notebook_image_1",
      "metadata": {
        "id": "new_notebook_image_1"
      },
      "source": [
        "<img src=\"https://ik.imagekit.io/gdo1kssnd9/Assignment%20operatorr.JPG?updatedAt=1752734483419\" hight=1600 width=500>\n"
      ]
    },
    {
      "cell_type": "markdown",
      "id": "new_notebook_definition",
      "metadata": {
        "id": "new_notebook_definition"
      },
      "source": [
        "## 🔹 **What is Assignment operators**\n",
        "\n",
        "Assignment operators in Python are used to assign values to variables. The basic assignment operator is =, while other assignment operators include += and -=, which modify a variable's value by adding or subtracting a number, respectively.\n",
        "\n",
        "\n",
        "## 🔹 **Why We Use:**\n",
        "\n",
        "Assignment operators allow for efficient and concise ways to update variables, which is useful in loops, calculations, and conditional logic.\n",
        "\n"
      ]
    },
    {
      "cell_type": "markdown",
      "id": "new_notebook_examples_title",
      "metadata": {
        "id": "new_notebook_examples_title"
      },
      "source": [
        "# 🔹**Examples:**\n",
        "**Assignment (=):**\n",
        "\n",
        "The simple assignment operator assigns the value on the right to the variable on the left."
      ]
    },
    {
      "cell_type": "code",
      "execution_count": null,
      "id": "new_notebook_float_example_1",
      "metadata": {
        "id": "new_notebook_float_example_1"
      },
      "outputs": [],
      "source": [
        "x = 5\n",
        "print(x)  # Output: 5"
      ]
    },
    {
      "cell_type": "markdown",
      "source": [
        "# 🔹**Examples:**\n",
        "**Add and Assign (+=):**\n",
        "\n",
        "Adds the right operand to the left operand and assigns the result back to the left operand."
      ],
      "metadata": {
        "id": "kA0j44Pe1vWO"
      },
      "id": "kA0j44Pe1vWO"
    },
    {
      "cell_type": "code",
      "source": [
        "x = 5\n",
        "x += 3  # Equivalent to x = x + 3\n",
        "print(x)  # Output: 8\n"
      ],
      "metadata": {
        "id": "zDwcWVwQ15Hc"
      },
      "id": "zDwcWVwQ15Hc",
      "execution_count": null,
      "outputs": []
    },
    {
      "cell_type": "markdown",
      "source": [
        "# 🔹**Examples:**\n",
        "**Subtract and Assign (-=):**\n",
        "\n",
        "Subtracts the right operand from the left operand and assigns the result back to the left operand."
      ],
      "metadata": {
        "id": "72U_o5tUEO_j"
      },
      "id": "72U_o5tUEO_j"
    },
    {
      "cell_type": "code",
      "source": [
        "x = 10\n",
        "x -= 4  # Equivalent to x = x - 4\n",
        "print(x)  # Output: 6\n"
      ],
      "metadata": {
        "id": "bm5k99yKEV5y"
      },
      "id": "bm5k99yKEV5y",
      "execution_count": null,
      "outputs": []
    },
    {
      "cell_type": "markdown",
      "id": "new_notebook_conclusion",
      "metadata": {
        "id": "new_notebook_conclusion"
      },
      "source": [
        "## 🔹 **Conclusion**\n",
        "\n",
        "Assignment operators in Python make it easier to update variable values without needing to repeat the variable name. These operators simplify code and enhance readability, especially when working with loops or making incremental changes to variables."
      ]
    }
  ],
  "metadata": {
    "colab": {
      "provenance": []
    },
    "kernelspec": {
      "display_name": "xeven_env",
      "language": "python",
      "name": "python3"
    },
    "language_info": {
      "codemirror_mode": {
        "name": "ipython",
        "version": 3
      },
      "file_extension": ".py",
      "mimetype": "text/x-python",
      "name": "python",
      "nbconvert_exporter": "python",
      "pygments_lexer": "ipython3",
      "version": "3.12.11"
    }
  },
  "nbformat": 4,
  "nbformat_minor": 5
}