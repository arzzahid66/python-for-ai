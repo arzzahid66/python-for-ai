{
  "cells": [
    {
      "cell_type": "markdown",
      "id": "int_title",
      "metadata": {
        "id": "int_title"
      },
      "source": [
        "# 📌 **Python Variables: Essential Concepts for Every Programmer**\n",
        "\n",
        "**Course:** Python For AI\n"
      ]
    },
    {
      "cell_type": "markdown",
      "id": "int_image",
      "metadata": {
        "id": "int_image"
      },
      "source": [
        "<img src=\"https://ik.imagekit.io/93aesxpmbx/6ea01588-77e3-4a37-9f65-2089a26dc170.png?updatedAt=1751554366970\" width=500>"
      ]
    },
    {
      "cell_type": "markdown",
      "id": "int_definition",
      "metadata": {
        "id": "int_definition"
      },
      "source": [
        "## 🔹 **Definition**\n",
        "\n",
        "In Python, integers (`int`) are a fundamental numeric data type used to represent whole numbers (positive, negative, or zero) without any fractional part. They are one of the most commonly used data types in programming.\n",
        "\n",
        "Unlike some other programming languages, Python's integers have arbitrary precision, meaning their size is limited only by the available memory of the system. This allows Python to handle extremely large integer values without overflow issues.\n",
        "\n",
        "**Key characteristics of Python integers:**\n",
        "- **Whole Numbers:** They represent numbers like -5, 0, 100, 1000000, etc.\n",
        "- **Arbitrary Precision:** Can store integers of any size.\n",
        "- **Immutable:** Once an integer object is created, its value cannot be changed. Operations on integers (like addition or subtraction) create new integer objects.\n",
        "- **Base Representation:** Integers can be represented in decimal (base 10), binary (base 2, prefixed with `0b`), octal (base 8, prefixed with `0o`), or hexadecimal (base 16, prefixed with `0x`).\n"
      ]
    },
    {
      "cell_type": "markdown",
      "id": "int_creation",
      "metadata": {
        "id": "int_creation"
      },
      "source": [
        "## 🔹 **Creating Integers**\n",
        "\n",
        "Integers can be created directly by assigning a whole number literal to a variable.\n"
      ]
    },
    {
      "cell_type": "code",
      "execution_count": null,
      "id": "int_creation_example",
      "metadata": {
        "id": "int_creation_example"
      },
      "outputs": [],
      "source": [
        "# Creating positive integers\n",
        "positive_int = 42\n",
        "print(f\"Positive Integer: {positive_int}, Type: {type(positive_int)}\")\n",
        "\n",
        "# Creating negative integers\n",
        "negative_int = -100\n",
        "print(f\"Negative Integer: {negative_int}, Type: {type(negative_int)}\")\n",
        "\n",
        "# Creating zero\n",
        "zero_int = 0\n",
        "print(f\"Zero Integer: {zero_int}, Type: {type(zero_int)}\")\n",
        "\n",
        "# Large integer (arbitrary precision)\n",
        "large_int = 123456789012345678901234567890\n",
        "print(f\"Large Integer: {large_int}, Type: {type(large_int)}\")\n",
        "\n",
        "# Integers from different bases\n",
        "binary_int = 0b1010  # Binary for 10\n",
        "octal_int = 0o12    # Octal for 10\n",
        "hex_int = 0xA      # Hexadecimal for 10\n",
        "print(f\"Binary (0b1010): {binary_int}\")\n",
        "print(f\"Octal (0o12): {octal_int}\")\n",
        "print(f\"Hexadecimal (0xA): {hex_int}\")\n"
      ]
    },
    {
      "cell_type": "markdown",
      "id": "int_operations",
      "metadata": {
        "id": "int_operations"
      },
      "source": [
        "## 🔹 **Common Operations with Integers**\n",
        "\n",
        "Python supports standard arithmetic operations on integers.\n"
      ]
    },
    {
      "cell_type": "code",
      "execution_count": null,
      "id": "int_operations_example",
      "metadata": {
        "id": "int_operations_example"
      },
      "outputs": [],
      "source": [
        "a = 15\n",
        "b = 4\n",
        "\n",
        "# Addition\n",
        "sum_result = a + b\n",
        "print(f\"Addition ({a} + {b}): {sum_result}\")\n",
        "\n",
        "# Subtraction\n",
        "diff_result = a - b\n",
        "print(f\"Subtraction ({a} - {b}): {diff_result}\")\n",
        "\n",
        "# Multiplication\n",
        "prod_result = a * b\n",
        "print(f\"Multiplication ({a} * {b}): {prod_result}\")\n",
        "\n",
        "# Division (results in a float)\n",
        "div_result = a / b\n",
        "print(f\"Division ({a} / {b}): {div_result}, Type: {type(div_result)}\")\n",
        "\n",
        "# Floor Division (results in an integer, discards fractional part)\n",
        "floor_div_result = a // b\n",
        "print(f\"Floor Division ({a} // {b}): {floor_div_result}, Type: {type(floor_div_result)}\")\n",
        "\n",
        "# Modulo (remainder of division)\n",
        "mod_result = a % b\n",
        "print(f\"Modulo ({a} % {b}): {mod_result}\")\n",
        "\n",
        "# Exponentiation\n",
        "exp_result = a ** b\n",
        "print(f\"Exponentiation ({a} ** {b}): {exp_result}\")\n"
      ]
    },
    {
      "cell_type": "markdown",
      "id": "int_conversion",
      "metadata": {
        "id": "int_conversion"
      },
      "source": [
        "## 🔹 **Type Conversion**\n",
        "\n",
        "Integers can be converted to other data types and vice-versa using built-in functions.\n"
      ]
    },
    {
      "cell_type": "code",
      "execution_count": null,
      "id": "int_conversion_example",
      "metadata": {
        "id": "int_conversion_example"
      },
      "outputs": [],
      "source": [
        "# Converting float to int (truncates decimal part)\n",
        "float_num = 10.99\n",
        "int_from_float = int(float_num)\n",
        "print(f\"Float to Int ({float_num}): {int_from_float}\")\n",
        "\n",
        "# Converting string to int\n",
        "string_num = \"123\"\n",
        "int_from_string = int(string_num)\n",
        "print(f\"String to Int ('{string_num}'): {int_from_string}\")\n",
        "\n",
        "# Converting int to float\n",
        "my_int = 50\n",
        "float_from_int = float(my_int)\n",
        "print(f\"Int to Float ({my_int}): {float_from_int}\")\n",
        "\n",
        "# Converting int to string\n",
        "str_from_int = str(my_int)\n",
        "print(f\"Int to String ({my_int}): '{str_from_int}'\")\n"
      ]
    },
    {
      "cell_type": "markdown",
      "id": "int_conclusion",
      "metadata": {
        "id": "int_conclusion"
      },
      "source": [
        "## 🔹 **Conclusion**\n",
        "\n",
        "Integers are a fundamental and versatile data type in Python, essential for handling whole numbers in various programming contexts, including those relevant to AI and data science. Their arbitrary precision and support for standard arithmetic operations make them powerful for numerical computations. Understanding how to create, manipulate, and convert integers is a crucial step in mastering Python programming.\n"
      ]
    }
  ],
  "metadata": {
    "colab": {
      "provenance": []
    },
    "kernelspec": {
      "display_name": "venv",
      "language": "python",
      "name": "python3"
    },
    "language_info": {
      "name": "python",
      "version": "3.11.0"
    }
  },
  "nbformat": 4,
  "nbformat_minor": 5
}
