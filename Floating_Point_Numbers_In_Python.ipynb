{
  "cells": [
    {
      "cell_type": "markdown",
      "id": "new_notebook_title",
      "metadata": {},
      "source": [
        "# **📌 Floating-Point Numbers (`float`) in Python**\n",
        "\n",
        "**Course:** Python For AI"
      ]
    },
    {
      "cell_type": "markdown",
      "id": "new_notebook_image_1",
      "metadata": {},
      "source": [
        "<img src=\"https://ik.imagekit.io/txlmxz0v8/pyforai/Gemini_Generated_Image_jtrh8wjtrh8wjtrh.png?updatedAt=1751954429792\" hight=1600 width=500>\n"
      ]
    },
    {
      "cell_type": "markdown",
      "id": "new_notebook_definition",
      "metadata": {},
      "source": [
        "## 🔹 **What are Floating-Point Numbers?**\n",
        "\n",
        "A floating-point number (or `float`) in Python is a number with a decimal point. It can show values like 3.14, -0.001, or 2.0.\n",
        "\n",
        "- Floats are used for numbers that are not whole.\n",
        "- They are different from integers (`int`), which do not have decimals (like 3, -1, or 2).\n",
        "- Use floats when you need to work with fractions or decimals."
      ]
    },
    {
      "cell_type": "markdown",
      "id": "new_notebook_examples_title",
      "metadata": {},
      "source": [
        "# 🔹**Examples:**\n"
      ]
    },
    {
      "cell_type": "code",
      "execution_count": null,
      "id": "new_notebook_float_example_1",
      "metadata": {},
      "outputs": [],
      "source": [
        "# Basic float declaration\n",
        "price = 19.99\n",
        "temperature = -5.5\n",
        "pi = 3.14159\n",
        "\n",
        "print(f\"Price: {price}\")\n",
        "print(f\"Temperature: {temperature}\")\n",
        "print(f\"Pi: {pi}\")\n",
        "print(f\"Type of price: {type(price)}\")"
      ]
    },
    {
      "cell_type": "code",
      "execution_count": null,
      "id": "new_notebook_float_example_2",
      "metadata": {},
      "outputs": [],
      "source": [
        "# Floating-point arithmetic\n",
        "num1 = 10.5\n",
        "num2 = 2.5\n",
        "\n",
        "addition = num1 + num2\n",
        "subtraction = num1 - num2\n",
        "multiplication = num1 * num2\n",
        "division = num1 / num2\n",
        "\n",
        "print(f\"Addition: {addition}\")\n",
        "print(f\"Subtraction: {subtraction}\")\n",
        "print(f\"Multiplication: {multiplication}\")\n",
        "print(f\"Division: {division}\")"
      ]
    },
    {
      "cell_type": "markdown",
      "id": "new_notebook_conclusion",
      "metadata": {},
      "source": [
        "## 🔹 **Conclusion**\n",
        "\n",
        "Floating-point numbers (floats) are Python's way to handle decimal numbers.\n",
        "\n",
        "**What they are:**\n",
        "- Numbers with decimal points: `3.14`, `2.5`, `0.001`\n",
        "- Created automatically when you use decimals in Python"
      ]
    }
  ],
  "metadata": {
    "colab": {
      "provenance": []
    },
    "kernelspec": {
      "display_name": "xeven_env",
      "language": "python",
      "name": "python3"
    },
    "language_info": {
      "codemirror_mode": {
        "name": "ipython",
        "version": 3
      },
      "file_extension": ".py",
      "mimetype": "text/x-python",
      "name": "python",
      "nbconvert_exporter": "python",
      "pygments_lexer": "ipython3",
      "version": "3.12.11"
    }
  },
  "nbformat": 4,
  "nbformat_minor": 5
}
