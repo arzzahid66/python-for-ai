{
 "cells": [
  {
   "cell_type": "markdown",
   "id": "new_notebook_title",
   "metadata": {
    "id": "new_notebook_title"
   },
   "source": [
    "# **📌 Python Type Conversion: int(), str(), float()**\n",
    "\n",
    "**Course:** Python For AI\n"
   ]
  },
  {
   "cell_type": "markdown",
   "id": "a07ed476",
   "metadata": {},
   "source": [
    "<img src=\"https://ik.imagekit.io/93aesxpmbx/image(2).png?updatedAt=1752429433267\" width=\"500\">"
   ]
  },
  {
   "cell_type": "markdown",
   "id": "new_notebook_definition",
   "metadata": {
    "id": "new_notebook_definition"
   },
   "source": [
    "## 🔹 **What is Type Conversion?**\n",
    "\n",
    "Type conversion, also known as type casting, is the process of converting a variable from one data type to another. In Python, you often need to change the type of a value to perform specific operations or to ensure compatibility between different parts of your code. For example, you might need to convert a number stored as a string into an actual number to perform mathematical calculations.\n",
    "\n",
    "Python provides built-in functions like `int()`, `str()`, and `float()` to facilitate these conversions."
   ]
  },
  {
   "cell_type": "markdown",
   "metadata": {},
   "source": [
    "## 🔹 **`int()` Function**\n",
    "\n",
    "The `int()` function converts a value into an integer (a whole number). You can convert numbers (even floats) and strings that represent whole numbers.\n"
   ]
  },
  {
   "cell_type": "code",
   "execution_count": null,
   "metadata": {},
   "outputs": [],
   "source": [
    "# Converting a float to an integer\n",
    "float_num = 10.75\n",
    "int_num = int(float_num)\n",
    "print(f\"Original float: {float_num}, Converted integer: {int_num}\")\n",
    "print(f\"Type of int_num: {type(int_num)}\")\n",
    "\n",
    "# Converting a string to an integer\n",
    "str_num = \"123\"\n",
    "int_from_str = int(str_num)\n",
    "print(f\"Original string: {str_num}, Converted integer: {int_from_str}\")\n",
    "print(f\"Type of int_from_str: {type(int_from_str)}\")\n",
    "\n",
    "# What happens if you try to convert a non-numeric string?\n",
    "# Uncomment the line below to see the error!\n",
    "# int(\"hello\")"
   ]
  },
  {
   "cell_type": "markdown",
   "metadata": {},
   "source": [
    "## 🔹 **`str()` Function**\n",
    "\n",
    "The `str()` function converts a value into a string. This is useful when you want to display numbers or other data types as text, or when you need to concatenate them with other strings.\n"
   ]
  },
  {
   "cell_type": "code",
   "execution_count": null,
   "metadata": {},
   "outputs": [],
   "source": [
    "# Converting an integer to a string\n",
    "int_val = 456\n",
    "str_from_int = str(int_val)\n",
    "print(f\"Original integer: {int_val}, Converted string: {str_from_int}\")\n",
    "print(f\"Type of str_from_int: {type(str_from_int)}\")\n",
    "\n",
    "# Converting a float to a string\n",
    "float_val = 3.14\n",
    "str_from_float = str(float_val)\n",
    "print(f\"Original float: {float_val}, Converted string: {str_from_float}\")\n",
    "print(f\"Type of str_from_float: {type(str_from_float)}\")\n",
    "\n",
    "# Concatenating a string with a converted number\n",
    "age = 30\n",
    "message = \"I am \" + str(age) + \" years old.\"\n",
    "print(message)"
   ]
  },
  {
   "cell_type": "markdown",
   "metadata": {},
   "source": [
    "## 🔹 **`float()` Function**\n",
    "\n",
    "The `float()` function converts a value into a floating-point number (a number with a decimal part). You can convert integers and strings that represent numbers (with or without decimals) to floats.\n"
   ]
  },
  {
   "cell_type": "code",
   "execution_count": null,
   "metadata": {},
   "outputs": [],
   "source": [
    "# Converting an integer to a float\n",
    "int_to_float = 100\n",
    "float_from_int = float(int_to_float)\n",
    "print(f\"Original integer: {int_to_float}, Converted float: {float_from_int}\")\n",
    "print(f\"Type of float_from_int: {type(float_from_int)}\")\n",
    "\n",
    "# Converting a string to a float\n",
    "str_to_float = \"98.6\"\n",
    "float_from_str = float(str_to_float)\n",
    "print(f\"Original string: {str_to_float}, Converted float: {float_from_str}\")\n",
    "print(f\"Type of float_from_str: {type(float_from_str)}\")\n",
    "\n",
    "# Converting a string representing an integer to a float\n",
    "str_int_to_float = \"50\"\n",
    "float_from_str_int = float(str_int_to_float)\n",
    "print(f\"Original string (int): {str_int_to_float}, Converted float: {float_from_str_int}\")\n",
    "print(f\"Type of float_from_str_int: {type(float_from_str_int)}\")\n",
    "\n",
    "# What happens if you try to convert a non-numeric string?\n",
    "# Uncomment the line below to see the error!\n",
    "# float(\"abc\")"
   ]
  },
  {
   "cell_type": "markdown",
   "metadata": {},
   "source": [
    "## 🔹 **Conclusion**\n",
    "\n",
    "Type conversion is a crucial concept in Python programming, allowing you to manipulate data effectively by changing its type. The `int()`, `str()`, and `float()` functions are your primary tools for these conversions. Understanding when and how to use them will help you write more flexible and robust code, ensuring that your data is always in the correct format for the operations you want to perform."
   ]
  }
 ],
 "metadata": {
  "colab": {
   "provenance": []
  },
  "kernelspec": {
   "display_name": "Python 3",
   "language": "python",
   "name": "python3"
  },
  "language_info": {
   "codemirror_mode": {
    "name": "ipython",
    "version": 3
   },
   "file_extension": ".py",
   "mimetype": "text/x-python",
   "name": "python",
   "nbconvert_exporter": "python",
   "pygments_lexer": "ipython3",
   "version": "3.11.0rc1"
  }
 },
 "nbformat": 4,
 "nbformat_minor": 5
}
