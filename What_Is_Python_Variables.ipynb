{
 "cells": [
  {
   "cell_type": "markdown",
   "metadata": {},
   "source": [
    "# **Python Variables: The Foundation of Programming**\n",
    "\n",
    "**Course:** Python For AI"
   ]
  },
  {
   "cell_type": "markdown",
   "metadata": {},
   "source": [
    "## 🔹 **Introduction**\n",
    "\n",
    "Variables are like labeled boxes where we store information in programming. Just like you'd label a box 'books' or 'toys', we give variables names to store data. In Python, we create a variable like this: `age = 25`. Here, 'age' is the variable name and '25' is the value it stores.\n",
    "\n",
    "<img src=\"https://ik.imagekit.io/93aesxpmbx/2afdb9a9-1a55-46e5-995c-80460ca8db71.jpg?updatedAt=1751304940537\" width=500>"
   ]
  },
  {
   "cell_type": "markdown",
   "metadata": {},
   "source": [
    "## 🔹 **Creating Variables**\n",
    "\n",
    "In Python, you don\"t need to declare variables with a specific type. A variable is created the moment you first assign a value to it. Python is smart enough to figure out the data type on its own!"
   ]
  },
  {
   "cell_type": "code",
   "execution_count": null,
   "metadata": {},
   "outputs": [],
   "source": [
    "# Assigning an integer value\n",
    "x = 5\n",
    "\n",
    "# Assigning a string value\n",
    "y = \"John\""
   ]
  },
  {
   "cell_type": "markdown",
   "metadata": {},
   "source": [
    "## 🔹 **Outputting Variables**\n",
    "\n",
    "The `print()` function is used to output variables."
   ]
  },
  {
   "cell_type": "code",
   "execution_count": null,
   "metadata": {},
   "outputs": [],
   "source": [
    "print(x)  # Output: 5\n",
    "print(y)  # Output: John"
   ]
  },
  {
   "cell_type": "markdown",
   "metadata": {},
   "source": [
    "You can change the value of a variable anytime:"
   ]
  },
  {
   "cell_type": "code",
   "execution_count": null,
   "metadata": {},
   "outputs": [],
   "source": [
    "fruit = \"Apple\"\n",
    "print(fruit)  # Output: Apple\n",
    "\n",
    "fruit = \"Mango\"  # Changed the value\n",
    "print(fruit)  # Output: Mango"
   ]
  },
  {
   "cell_type": "markdown",
   "metadata": {},
   "source": [
    "## 🔹 **Conclusion**\n",
    "\n",
    "Variables are like containers that hold information in Python. Think of them as labeled boxes - you put something inside and give it a name so you can find it later. Once you understand how to create and use variables, you'll be ready to learn more exciting Python concepts. Great job on completing your variables Python lesson!"
   ]
  }
 ],
 "metadata": {
  "kernelspec": {
   "display_name": "Python 3",
   "language": "python",
   "name": "python3"
  },
  "language_info": {
   "codemirror_mode": {
    "name": "ipython",
    "version": 3
   },
   "file_extension": ".py",
   "mimetype": "text/x-python",
   "name": "python",
   "nbconvert_exporter": "python",
   "pygments_lexer": "ipython3",
   "version": "3.11.0rc1"
  }
 },
 "nbformat": 4,
 "nbformat_minor": 4
}
