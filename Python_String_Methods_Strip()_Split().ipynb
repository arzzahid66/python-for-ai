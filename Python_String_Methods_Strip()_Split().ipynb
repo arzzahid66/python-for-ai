{
  "cells": [
    {
      "cell_type": "markdown",
      "id": "new_notebook_title",
      "metadata": {
        "id": "new_notebook_title"
      },
      "source": [
        "# **📌 Python String Methods (Part 2): strip() and split()**\n",
        "\n",
        "\n",
        "**Course:** Python For AI\n"
      ]
    },
    {
      "cell_type": "markdown",
      "id": "new_notebook_image_1",
      "metadata": {
        "id": "new_notebook_image_1"
      },
      "source": [
        "<img src=\"https://ik.imagekit.io/gdo1kssnd9/Red%20and%20Black%20Modern%20Job%20Post%20Vacancy%20LinkedIn%20Post%20(4).jpg?updatedAt=1752383917388\" hight=1600 width=500>\n"
      ]
    },
    {
      "cell_type": "markdown",
      "id": "new_notebook_definition",
      "metadata": {
        "id": "new_notebook_definition"
      },
      "source": [
        "## 🔹 **What are String Methods?**\n",
        "\n",
        "String methods in Python are built-in functions that allow you to manipulate and modify string data in various ways. These methods make it easier to clean, format, and process text in your code. Two commonly used string methods are strip() and split().\n",
        "\n",
        "\n",
        "## 🔹 **strip() Method**\n",
        "\n",
        "The strip() method is used to remove leading and trailing whitespace or unwanted characters from a string. It ensures that no extra spaces or newline characters interfere with your string data.\n",
        "## 🔹 **strip() Method**\n",
        "On the other hand, the split() method divides a string into multiple substrings based on a delimiter, such as a space or comma, and returns a list of these substrings. Both methods are essential for text processing, allowing you to clean data and break it into manageable parts for further manipulation\n",
        "\n",
        "## 🔹 **Why We Use:**\n",
        "strip() is used to clean strings by removing unwanted spaces or characters that may interfere with string comparisons or data processing.\n",
        "\n",
        "split() is used to separate a string into smaller, manageable parts, such as extracting words from a sentence or items from a list.\n"
      ]
    },
    {
      "cell_type": "markdown",
      "id": "8FpTBuNXHIux",
      "metadata": {
        "id": "8FpTBuNXHIux"
      },
      "source": [
        "## 🔹 **Importance:**\n",
        "These methods are crucial for handling user input, cleaning up data, and processing text. They help ensure strings are in the correct format for further operations, making code more efficient and error-free.\n",
        "\n"
      ]
    },
    {
      "cell_type": "markdown",
      "id": "new_notebook_examples_title",
      "metadata": {
        "id": "new_notebook_examples_title"
      },
      "source": [
        "# 🔹**Examples:**\n",
        "## **strip()**\n",
        "\n"
      ]
    },
    {
      "cell_type": "code",
      "execution_count": null,
      "id": "new_notebook_float_example_1",
      "metadata": {
        "id": "new_notebook_float_example_1"
      },
      "outputs": [],
      "source": [
        "text = \"   Hello World!   \"\n",
        "print(text.strip())  # Output: \"Hello World!\"\n",
        "\n"
      ]
    },
    {
      "cell_type": "code",
      "execution_count": null,
      "id": "_5zg9kvJH-CZ",
      "metadata": {
        "id": "_5zg9kvJH-CZ"
      },
      "outputs": [],
      "source": [
        "#Removing specific characters\n",
        "text = \"****Hello World!****\"\n",
        "cleaned_text = text.strip(\"*\")\n",
        "print(cleaned_text)  # Output: \"Hello World!\"\n"
      ]
    },
    {
      "cell_type": "markdown",
      "id": "UKlIIfJceq7P",
      "metadata": {
        "id": "UKlIIfJceq7P"
      },
      "source": [
        "# 🔹**Examples:**\n",
        "## **split()**"
      ]
    },
    {
      "cell_type": "code",
      "execution_count": null,
      "id": "aV4Ht854eqER",
      "metadata": {
        "id": "aV4Ht854eqER"
      },
      "outputs": [],
      "source": [
        "sentence = \"Python is fun\"\n",
        "print(sentence.split())  # Output: ['Python', 'is', 'fun']\n",
        "\n"
      ]
    },
    {
      "cell_type": "code",
      "execution_count": null,
      "id": "ua7kTenuIQkA",
      "metadata": {
        "id": "ua7kTenuIQkA"
      },
      "outputs": [],
      "source": [
        "#Splitting by a comma:\n",
        "csv_line = \"apple,banana,orange\"\n",
        "fruits = csv_line.split(\",\")\n",
        "print(fruits)  # Output: ['apple', 'banana', 'orange']\n"
      ]
    },
    {
      "cell_type": "markdown",
      "id": "new_notebook_conclusion",
      "metadata": {
        "id": "new_notebook_conclusion"
      },
      "source": [
        "## 🔹 **Conclusion**\n",
        "\n",
        "In conclusion, the strip() and split() methods are powerful tools for string manipulation in Python. strip() helps clean up unwanted spaces or characters from the beginning and end of a string, making data more consistent for processing. split() allows you to break down a string into smaller, manageable parts, making it ideal for tasks like parsing data or processing user input. Together, these methods simplify text handling and ensure cleaner, more efficient code.\n"
      ]
    }
  ],
  "metadata": {
    "colab": {
      "provenance": []
    },
    "kernelspec": {
      "display_name": "xeven_env",
      "language": "python",
      "name": "python3"
    },
    "language_info": {
      "codemirror_mode": {
        "name": "ipython",
        "version": 3
      },
      "file_extension": ".py",
      "mimetype": "text/x-python",
      "name": "python",
      "nbconvert_exporter": "python",
      "pygments_lexer": "ipython3",
      "version": "3.12.11"
    }
  },
  "nbformat": 4,
  "nbformat_minor": 5
}
