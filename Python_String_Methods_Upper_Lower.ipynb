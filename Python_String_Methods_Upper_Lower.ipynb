{
  "cells": [
    {
      "cell_type": "markdown",
      "id": "new_notebook_title",
      "metadata": {},
      "source": [
        "# **📌 Python String Methods (Part 1): `upper()` and `lower()`**\n",
        "\n",
        "**Course:** Python For AI\n"
      ]
    },
    {
      "cell_type": "markdown",
      "id": "new_notebook_image_1",
      "metadata": {},
      "source": [
        "<img src=\"https://ik.imagekit.io/txlmxz0v8/pyforai/string_methods_upper_lower_horizontal_final.webp?updatedAt=1752329376826\" hight=1600 width=500>"
      ]
    },
    {
      "cell_type": "markdown",
      "id": "new_notebook_definition",
      "metadata": {},
      "source": [
        "## 🔹 **What are String Methods?**\n",
        "In Python, strings are objects, and like other objects, they have built-in functions associated with them called methods. These methods allow you to perform various operations on strings, such as changing their case, searching for substrings, replacing characters, and much more. String methods are called using dot notation (e.g., `my_string.method_name()`).\n",
        "\n",
        "This notebook focuses on two fundamental string methods: `upper()` and `lower()`, which are used to change the case of characters within a string.\n",
        "\n",
        "## 🔹 **Why Use String Methods?**\n",
        "* **Data Normalization:** Normalize case (e.g., 'apple', 'Apple', 'APPLE').\n",
        "* **User Input Processing:** Simplifies validation.\n",
        "* **Display Formatting:** Consistency in display.\n",
        "* **Efficiency & Readability:** Concise syntax for common tasks.\n"
      ]
    },
    {
      "cell_type": "markdown",
      "id": "new_notebook_examples_title",
      "metadata": {},
      "source": [
        "# 🔹**Examples:**\n"
      ]
    },
    {
      "cell_type": "markdown",
      "id": "new_notebook_upper_method_text",
      "metadata": {},
      "source": [
        "### **`upper()` Method**\n",
        "The `upper()` method returns a new string where all characters in the original string are converted to uppercase. Non-alphabetic characters (numbers, symbols, spaces) remain unchanged."
      ]
    },
    {
      "cell_type": "code",
      "execution_count": null,
      "id": "new_notebook_upper_method_code",
      "metadata": {},
      "outputs": [],
      "source": [
        "text = \"Hello World!\"\n",
        "uppercase_text = text.upper()\n",
        "print(f\"Original: {text}\")\n",
        "print(f\"Uppercase: {uppercase_text}\")\n",
        "\n",
        "# Example with numbers and symbols\n",
        "mixed_text = \"Python 3.9 is GREAT!\"\n",
        "uppercase_mixed = mixed_text.upper()\n",
        "print(f\"Original: {mixed_text}\")\n",
        "print(f\"Uppercase: {uppercase_mixed}\")"
      ]
    },
    {
      "cell_type": "markdown",
      "id": "new_notebook_lower_method_text",
      "metadata": {},
      "source": [
        "### **`lower()` Method**\n",
        "The `lower()` method returns a new string where all characters in the original string are converted to lowercase. Similar to `upper()`, non-alphabetic characters remain unchanged."
      ]
    },
    {
      "cell_type": "code",
      "execution_count": null,
      "id": "new_notebook_lower_method_code",
      "metadata": {},
      "outputs": [],
      "source": [
        "text = \"HELLO WORLD!\"\n",
        "lowercase_text = text.lower()\n",
        "print(f\"Original: {text}\")\n",
        "print(f\"Lowercase: {lowercase_text}\")\n",
        "\n",
        "# Example with mixed case\n",
        "mixed_case_text = \"PyThOn PrOgRaMmInG\"\n",
        "lowercase_mixed_case = mixed_case_text.lower()\n",
        "print(f\"Original: {mixed_case_text}\")\n",
        "print(f\"Lowercase: {lowercase_mixed_case}\")"
      ]
    },
    {
      "cell_type": "markdown",
      "id": "new_notebook_conclusion",
      "metadata": {},
      "source": [
        "## 🔹 **Conclusion**\n",
        "The `upper()` and `lower()` methods are fundamental tools for case manipulation in Python strings. They are simple to use, efficient, and crucial for tasks like data normalization, user input processing, and display formatting. By understanding and applying these basic string methods, you can significantly enhance your ability to work with and process textual data effectively in Python."
      ]
    }
  ],
  "metadata": {
    "colab": {
      "provenance": []
    },
    "kernelspec": {
      "display_name": "venv",
      "language": "python",
      "name": "python3"
    },
    "language_info": {
      "codemirror_mode": {
        "name": "ipython",
        "version": 3
      },
      "file_extension": ".py",
      "mimetype": "text/x-python",
      "name": "python",
      "nbconvert_exporter": "python",
      "pygments_lexer": "ipython3",
      "version": "3.11.0"
    }
  },
  "nbformat": 4,
  "nbformat_minor": 5
}
