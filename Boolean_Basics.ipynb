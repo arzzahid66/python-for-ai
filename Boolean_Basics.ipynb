{
 "cells": [
  {
   "cell_type": "markdown",
   "metadata": {},
   "source": [
    "# **📌 Python Booleans: The Logic Behind Decisions**\n",
    "\n",
    "**Course:** Python For AI"
   ]
  },
  {
   "cell_type": "markdown",
   "metadata": {},
   "source": [
    "<img src=\"https://ik.imagekit.io/93aesxpmbx/image(1).png?updatedAt=1752428275458\" width=500>\n",
    "\n",
    "## 🔹 **What are Booleans?**\n",
    "\n",
    "Booleans are fundamental in programming, helping your code make decisions. Think of them as simple 'yes' or 'no' answers.\n",
    "\n",
    "In Python, there are only two Boolean values:\n",
    "* `True`\n",
    "* `False`\n",
    "\n",
    "Notice that they start with a capital letter! This is important."
   ]
  },
  {
   "cell_type": "markdown",
   "metadata": {},
   "source": [
    "Booleans represent one of two values: `True` or `False`. They are used to evaluate conditions and control the flow of your programs.\n",
    "\n",
    "In programming you often need to know if an expression is `True` or `False`. You can evaluate any expression in Python, and get one of two answers, `True` or `False`."
   ]
  },
  {
   "cell_type": "code",
   "execution_count": null,
   "metadata": {},
   "outputs": [],
   "source": [
    "# Let's see their type!\n",
    "print(type(True))\n",
    "print(type(False))"
   ]
  },
  {
   "cell_type": "markdown",
   "metadata": {},
   "source": [
    "## 🔹 **Boolean Values**\n",
    "\n",
    "When you compare two values, the expression is evaluated and Python returns the Boolean answer:"
   ]
  },
  {
   "cell_type": "code",
   "execution_count": null,
   "metadata": {},
   "outputs": [],
   "source": [
    "print(10 > 9)\n",
    "print(10 == 9)\n",
    "print(10 < 9)"
   ]
  },
  {
   "cell_type": "markdown",
   "metadata": {},
   "source": [
    "When you run a condition in an if statement, Python returns `True` or `False`:"
   ]
  },
  {
   "cell_type": "code",
   "execution_count": null,
   "metadata": {},
   "outputs": [],
   "source": [
    "# Print a message based on whether the condition is True or False\n",
    "a = 200\n",
    "b = 33\n",
    "\n",
    "if b > a:\n",
    "    print(\"b is greater than a\")\n",
    "else:\n",
    "    print(\"b is not greater than a\")"
   ]
  },
  {
   "cell_type": "markdown",
   "metadata": {},
   "source": [
    "## 🔹 **Comparisons: Getting `True` or `False`**\n",
    "\n",
    "You'll often get Boolean values when you compare things. Here are some common comparison operators:\n",
    "* `==` (equal to)\n",
    "* `!=` (not equal to)\n",
    "* `>` (greater than)\n",
    "* `<` (less than)\n",
    "* `>=` (greater than or equal to)\n",
    "* `<=` (less than or equal to)"
   ]
  },
  {
   "cell_type": "code",
   "execution_count": null,
   "metadata": {},
   "outputs": [],
   "source": [
    "# Examples of comparisons\n",
    "print(5 == 5)  # Is 5 equal to 5?\n",
    "print(10 != 7) # Is 10 not equal to 7?\n",
    "print(20 > 15) # Is 20 greater than 15?\n",
    "print(3 < 1)   # Is 3 less than 1?\n",
    "print(8 >= 8)  # Is 8 greater than or equal to 8?\n",
    "print(4 <= 6)  # Is 4 less than or equal to 6?"
   ]
  },
  {
   "cell_type": "markdown",
   "metadata": {},
   "source": [
    "## 🔹 **Logical Operators: Combining Booleans**\n",
    "\n",
    "You can combine Boolean values using logical operators: `and`, `or`, and `not`."
   ]
  },
  {
   "cell_type": "markdown",
   "metadata": {},
   "source": [
    "### `and` operator\n",
    "\n",
    "Returns `True` if *both* conditions are `True`."
   ]
  },
  {
   "cell_type": "code",
   "execution_count": null,
   "metadata": {},
   "outputs": [],
   "source": [
    "# Example with 'and'\n",
    "print(True and True)\n",
    "print(True and False)\n",
    "print(False and True)\n",
    "print(False and False)"
   ]
  },
  {
   "cell_type": "markdown",
   "metadata": {},
   "source": [
    "### `or` operator\n",
    "\n",
    "Returns `True` if *at least one* condition is `True`."
   ]
  },
  {
   "cell_type": "code",
   "execution_count": null,
   "metadata": {},
   "outputs": [],
   "source": [
    "# Example with 'or'\n",
    "print(True or True)\n",
    "print(True or False)\n",
    "print(False or True)\n",
    "print(False or False)"
   ]
  },
  {
   "cell_type": "markdown",
   "metadata": {},
   "source": [
    "### `not` operator\n",
    "\n",
    "Reverses the Boolean value: `True` becomes `False`, and `False` becomes `True`."
   ]
  },
  {
   "cell_type": "code",
   "execution_count": null,
   "metadata": {},
   "outputs": [],
   "source": [
    "# Example with 'not'\n",
    "print(not True)\n",
    "print(not False)"
   ]
  },
  {
   "cell_type": "markdown",
   "metadata": {},
   "source": [
    "## 🔹 **Booleans in `if` Statements (Quick Look!)**\n",
    "\n",
    "Booleans are super useful for making decisions in your code using `if` statements."
   ]
  },
  {
   "cell_type": "code",
   "execution_count": null,
   "metadata": {},
   "outputs": [],
   "source": [
    "# Simple if-else example\n",
    "age = 18\n",
    "\n",
    "if age >= 18:\n",
    "    print(\"You are an adult.\")\n",
    "else:\n",
    "    print(\"You are a minor.\")\n",
    "\n",
    "is_sunny = True\n",
    "\n",
    "if is_sunny:\n",
    "    print(\"Let's go outside!\")\n",
    "else:\n",
    "    print(\"Maybe stay inside.\")"
   ]
  },
  {
   "cell_type": "markdown",
   "metadata": {},
   "source": [
    "## 🔹 **Evaluate Values and Variables**\n",
    "\n",
    "The `bool()` function allows you to evaluate any value, and give you `True` or `False` in return."
   ]
  },
  {
   "cell_type": "code",
   "execution_count": null,
   "metadata": {},
   "outputs": [],
   "source": [
    "# Evaluate two variables\n",
    "x = \"Hello\"\n",
    "y = 10\n",
    "\n",
    "print(bool(x))\n",
    "print(bool(y))"
   ]
  },
  {
   "cell_type": "markdown",
   "metadata": {},
   "source": [
    "## 🔹 **Conclusion**\n",
    "\n",
    "That's a quick tour of Booleans in Python! Remember: `True` and `False` are your decision-makers in code. Keep practicing, and you'll master them in no time!"
   ]
  }
 ],
 "metadata": {
  "kernelspec": {
   "display_name": "venv",
   "language": "python",
   "name": "python3"
  },
  "language_info": {
   "codemirror_mode": {
    "name": "ipython",
    "version": 3
   },
   "file_extension": ".py",
   "mimetype": "text/x-python",
   "name": "python",
   "nbconvert_exporter": "python",
   "pygments_lexer": "ipython3",
   "version": "3.11.0"
  }
 },
 "nbformat": 4,
 "nbformat_minor": 2
}
