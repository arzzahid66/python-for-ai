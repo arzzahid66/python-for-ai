{
  "cells": [
    {
      "cell_type": "markdown",
      "id": "new_notebook_title",
      "metadata": {},
      "source": [
        "# **📌 Floating-Point Numbers (`float`) in Python**\n",
        "\n",
        "\n",
        "**Course:** Python For AI\n"
      ]
    },
    {
      "cell_type": "markdown",
      "id": "new_notebook_image_1",
      "metadata": {},
      "source": [
        "<img src=\"/home/ubuntu/upload/search_images/EeMLxuTJqvZM.jpg\" height=1080 width=1920>"
      ]
    },
    {
      "cell_type": "markdown",
      "id": "new_notebook_definition",
      "metadata": {},
      "source": [
        "## 🔹 **What are Floating-Point Numbers?**\n",
        "\n",
        "In Python, a floating-point number, or \`float\`, is a number that has a decimal point. These numbers are used to represent real numbers, which can have fractional parts. They are stored in a specific format that allows them to represent a wide range of values, from very small to very large, though with a limited precision.\n",
        "\n",
        "Floating-point numbers are distinct from integers (\`int\`), which represent whole numbers without any fractional component. For example, \`3.14\`, \`-0.001\`, and \`2.0\` are all floating-point numbers, while \`3\`, \`-1\`, and \`2\` are integers.\n",
        "\n",
        "## 🔹 **Why Use Floating-Point Numbers?**\n",
        "\n",
        "Floating-point numbers are essential for various applications:\n",
        "\n",
        "*   **Scientific and Engineering Calculations:** Many calculations in physics, engineering, and other scientific fields involve quantities that are not whole numbers, such as measurements, probabilities, and statistical data.\n",
        "*   **Financial Applications:** Representing monetary values, interest rates, and other financial data often requires decimal precision.\n",
        "*   **Graphics and Multimedia:** Coordinates, color values, and other parameters in graphics and multimedia applications frequently use floating-point numbers.\n",
        "*   **Machine Learning and Data Science:** Numerical computations in these fields heavily rely on floating-point arithmetic for tasks like gradient descent, neural network weights, and statistical modeling.\n",
        "\n",
        "It\"s important to understand that floating-point arithmetic can sometimes lead to small precision errors due to the way these numbers are stored in binary. This is a common characteristic of floating-point representations in computers, not specific to Python.\n"
      ]
    },
    {
      "cell_type": "markdown",
      "id": "new_notebook_examples_title",
      "metadata": {},
      "source": [
        "# 🔹**Examples:**\n",
        "\n",
        "\n"
      ]
    },
    {
      "cell_type": "code",
      "execution_count": null,
      "id": "new_notebook_float_example_1",
      "metadata": {},
      "outputs": [],
      "source": [
        "# Basic float declaration\n",
        "price = 19.99\n",
        "temperature = -5.5\n",
        "pi = 3.14159\n",
        "\n",
        "print(f\"Price: {price}\")\n",
        "print(f\"Temperature: {temperature}\")\n",
        "print(f\"Pi: {pi}\")\n",
        "print(f\"Type of price: {type(price)}\")"
      ]
    },
    {
      "cell_type": "code",
      "execution_count": null,
      "id": "new_notebook_float_example_2",
      "metadata": {},
      "outputs": [],
      "source": [
        "# Floating-point arithmetic\n",
        "num1 = 10.5\n",
        "num2 = 2.5\n",
        "\n",
        "addition = num1 + num2\n",
        "subtraction = num1 - num2\n",
        "multiplication = num1 * num2\n",
        "division = num1 / num2\n",
        "\n",
        "print(f\"Addition: {addition}\")\n",
        "print(f\"Subtraction: {subtraction}\")\n",
        "print(f\"Multiplication: {multiplication}\")\n",
        "print(f\"Division: {division}\")"
      ]
    },
    {
      "cell_type": "code",
      "execution_count": null,
      "id": "new_notebook_float_example_3",
      "metadata": {},
      "outputs": [],
      "source": [
        "# Precision issues with floats\n",
        "# Due to the binary representation of floating-point numbers,\n",
        "# some decimal numbers cannot be represented exactly.\n",
        "\n",
        "result = 0.1 + 0.1 + 0.1\n",
        "print(f\"0.1 + 0.1 + 0.1 = {result}\")\n",
        "\n",
        "# Comparing floats should be done carefully\n",
        "# It\"s generally not recommended to use == for direct comparison\n",
        "# Instead, check if the absolute difference is within a small tolerance\n",
        "\n",
        "a = 0.1 + 0.2\n",
        "b = 0.3\n",
        "\n",
        "print(f\"Is a == b? {a == b}\")\n",
        "print(f\"Absolute difference: {abs(a - b)}\")\n",
        "\n",
        "tolerance = 1e-9\n",
        "print(f\"Is a approximately equal to b? {abs(a - b) < tolerance}\")"
      ]
    },
    {
      "cell_type": "markdown",
      "id": "new_notebook_conclusion",
      "metadata": {},
      "source": [
        "## 🔹 **Conclusion**\n",
        "\n",
        "Floating-point numbers are a fundamental data type in Python, crucial for handling real-world values that require decimal precision. While they offer immense utility in scientific, financial, and data-driven applications, it\"s vital to be aware of their inherent limitations, particularly concerning precision. Understanding how floats are stored and the potential for small inaccuracies is key to writing robust and reliable code. By carefully managing comparisons and being mindful of precision, you can effectively leverage floating-point numbers to solve a wide array of computational problems in Python.\n"
      ]
    }
  ],
  "metadata": {
    "colab": {
      "provenance": []
    },
    "kernelspec": {
      "display_name": "venv",
      "language": "python",
      "name": "python3"
    },
    "language_info": {
      "codemirror_mode": {
        "name": "ipython",
        "version": 3
      },
      "file_extension": ".py",
      "mimetype": "text/x-python",
      "name": "python",
      "nbconvert_exporter": "python",
      "pygments_lexer": "ipython3",
      "version": "3.11.0"
    }
  },
  "nbformat": 4,
  "nbformat_minor": 5
}

