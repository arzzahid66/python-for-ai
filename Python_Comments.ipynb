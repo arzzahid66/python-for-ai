{
  "cells": [
    {
      "cell_type": "markdown",
      "id": "2530ed3f",
      "metadata": {
        "id": "2530ed3f"
      },
      "source": [
        "# **📌 Python Comments: Single-line and Multi-line Explained**\n",
        "\n",
        "\n",
        "**Course:** Python For AI\n"
      ]
    },
    {
      "cell_type": "markdown",
      "id": "UvbtCBTL0hho",
      "metadata": {
        "id": "UvbtCBTL0hho"
      },
      "source": [
        "<img src=\"https://ik.imagekit.io/93aesxpmbx/image.png?updatedAt=1751455991715\" height=300>"
      ]
    },
    {
      "cell_type": "markdown",
      "id": "ccca9a61",
      "metadata": {
        "id": "ccca9a61"
      },
      "source": [
        "## 🔹 **Definition**\n",
        "\n",
        "In Python, comments are used to explain code and make it more readable.  \n",
        "They are ignored by Python during execution, meaning they do not affect the program’s output.\n",
        "\n",
        "**Python has two types of comments:**\n",
        "\n",
        "- **Single-line comments** — start with the `#` symbol  \n",
        "- **Multi-line comments** — written using triple quotes:  \n",
        "    `''' ... '''` or `\"\"\" ... \"\"\"`  \n",
        "    <sub>(Note: This is technically a string, but often used as a multi-line comment)</sub>\n",
        "\n",
        "**Comments are useful for:**\n",
        "- Explaining what the code does\n",
        "- Temporarily disabling code\n",
        "- Making your code easy to understand for yourself and others\n"
      ]
    },
    {
      "cell_type": "markdown",
      "id": "04a12e28",
      "metadata": {
        "id": "04a12e28"
      },
      "source": [
        "# 🔹**Example: Single-line Comments**\n",
        "\n",
        "\n"
      ]
    },
    {
      "cell_type": "code",
      "execution_count": null,
      "id": "aee927b1",
      "metadata": {
        "id": "aee927b1"
      },
      "outputs": [],
      "source": [
        "# This is a single-line comment\n",
        "name = \"Ali\"  # This comment is on the same line as code"
      ]
    },
    {
      "cell_type": "markdown",
      "id": "f051fe3f",
      "metadata": {
        "id": "f051fe3f"
      },
      "source": [
        "# 🔹**Example:  Multi-line Comments**\n"
      ]
    },
    {
      "cell_type": "code",
      "execution_count": null,
      "id": "0a631bfd",
      "metadata": {
        "id": "0a631bfd"
      },
      "outputs": [],
      "source": [
        "'''\n",
        "This is a multi-line comment.\n",
        "It can span multiple lines.\n",
        "Useful for long explanations.\n",
        "'''\n",
        "print(\"Hello, Python!\")\n"
      ]
    },
    {
      "cell_type": "code",
      "execution_count": null,
      "id": "f4125dc0",
      "metadata": {
        "id": "f4125dc0"
      },
      "outputs": [],
      "source": [
        "\"\"\"\n",
        "Another way to write\n",
        "multi-line comments\n",
        "is using triple double-quotes.\n",
        "\"\"\"\n",
        "print(\"This also works!\")\n"
      ]
    },
    {
      "cell_type": "markdown",
      "id": "wVs_k30sHSTj",
      "metadata": {
        "id": "wVs_k30sHSTj"
      },
      "source": [
        "<img src=\"https://ik.imagekit.io/gdo1kssnd9/pyforai_purpose_of_comments.jpg?updatedAt=1751358793342\" height=400>"
      ]
    },
    {
      "cell_type": "markdown",
      "id": "d06936eb",
      "metadata": {
        "id": "d06936eb"
      },
      "source": [
        "## 🔹 **Conclusion**\n",
        "\n",
        "In Python, comments are a great way to make your code clean and understandable.  \n",
        "Use `#` for short, one-line notes, and triple quotes (`'''` or `\"\"\"`) for longer explanations.  \n",
        "Python ignores comments when running code, so they are just for humans — not the computer.  \n",
        "Writing clear comments is a good habit, especially when working in teams or reviewing code later."
      ]
    }
  ],
  "metadata": {
    "colab": {
      "provenance": []
    },
    "kernelspec": {
      "display_name": "venv",
      "language": "python",
      "name": "python3"
    },
    "language_info": {
      "name": "python",
      "version": "3.11.0"
    }
  },
  "nbformat": 4,
  "nbformat_minor": 5
}
