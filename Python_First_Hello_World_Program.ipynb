{
  "cells": [
    {
      "cell_type": "markdown",
      "id": "new_notebook_title",
      "metadata": {
        "id": "new_notebook_title"
      },
      "source": [
        "# **📌 Getting Started with Python: Your First Program (Hello World!)**\n",
        "\n",
        "\n",
        "**Course:** Python For AI\n"
      ]
    },
    {
      "cell_type": "markdown",
      "id": "new_notebook_image_1",
      "metadata": {
        "id": "new_notebook_image_1"
      },
      "source": [
        "<img src=\"https://ik.imagekit.io/gdo1kssnd9/hello%20world.JPG?updatedAt=1752388502973\" hight=1600 width=500>\n"
      ]
    },
    {
      "cell_type": "markdown",
      "id": "new_notebook_definition",
      "metadata": {
        "id": "new_notebook_definition"
      },
      "source": [
        "## 🔹 **Introduction**\n",
        "\n",
        "In this notebook, we will write your very first Python program: Hello World!. It’s the simplest program in any programming language and a great way to begin your journey into coding with Python.\n",
        "\n",
        "\n",
        "\n",
        "## 🔹 **What is Python?**\n",
        "\n",
        "Python is a high-level programming language known for its simplicity and readability. It's used for web development, data analysis, machine learning, automation, and more.\n",
        "\n",
        "## 🔹 **Writing Your First Program**\n",
        "The first program you write in Python simply prints the message \"Hello, World!\" to the screen. It’s a tradition for all new programmers to write this program as a way to confirm their environment is set up correctly.\n"
      ]
    },
    {
      "cell_type": "markdown",
      "id": "new_notebook_examples_title",
      "metadata": {
        "id": "new_notebook_examples_title"
      },
      "source": [
        "# 🔹**Examples:**\n",
        "\n"
      ]
    },
    {
      "cell_type": "code",
      "execution_count": null,
      "id": "new_notebook_float_example_1",
      "metadata": {
        "id": "new_notebook_float_example_1"
      },
      "outputs": [],
      "source": [
        "# This is your first Python program\n",
        "print(\"Hello, World!\")"
      ]
    },
    {
      "cell_type": "markdown",
      "id": "UKlIIfJceq7P",
      "metadata": {
        "id": "UKlIIfJceq7P"
      },
      "source": [
        "# 🔹**Code Explanation:**\n",
        "\n",
        "\n",
        "*   print(): This is a built-in Python function that displays the content inside the parentheses.\n",
        "\n",
        "\n",
        "*   \"Hello, World!\": This is a string that the program will print on the screen. Strings are enclosed in quotation marks.\n",
        "\n",
        "Running Your Program:\n",
        "\n",
        "To run your first Python program, simply:\n",
        "\n",
        "\n",
        "*   Open a Python interpreter or an IDE (like VS Code or Jupyter Notebook).\n",
        "\n",
        "*   Type or paste the code and press Enter.\n",
        "\n",
        "\n"
      ]
    },
    {
      "cell_type": "markdown",
      "id": "new_notebook_conclusion",
      "metadata": {
        "id": "new_notebook_conclusion"
      },
      "source": [
        "## 🔹 **Conclusion**\n",
        "\n",
        "Congratulations! You’ve just written your first Python program. The Hello World! program is the starting point for learning how to use Python, and now you’re ready to explore more complex topics and applications.\n",
        "\n"
      ]
    }
  ],
  "metadata": {
    "colab": {
      "provenance": []
    },
    "kernelspec": {
      "display_name": "xeven_env",
      "language": "python",
      "name": "python3"
    },
    "language_info": {
      "codemirror_mode": {
        "name": "ipython",
        "version": 3
      },
      "file_extension": ".py",
      "mimetype": "text/x-python",
      "name": "python",
      "nbconvert_exporter": "python",
      "pygments_lexer": "ipython3",
      "version": "3.12.11"
    }
  },
  "nbformat": 4,
  "nbformat_minor": 5
}
