{
  "cells": [
    {
      "cell_type": "markdown",
      "id": "new_notebook_title",
      "metadata": {
        "id": "new_notebook_title"
      },
      "source": [
        "# **📌 Mastering Advanced Math in Python: Modulus & Exponentiation (%, \\*\\*)**\n",
        "\n",
        "\n",
        "**Course:** Python For AI\n"
      ]
    },
    {
      "cell_type": "markdown",
      "id": "new_notebook_image_1",
      "metadata": {
        "id": "new_notebook_image_1"
      },
      "source": [
        "<img src=\"https://ik.imagekit.io/gdo1kssnd9/arthmatic.JPG?updatedAt=1752733005643\" hight=1600 width=500>\n"
      ]
    },
    {
      "cell_type": "markdown",
      "id": "new_notebook_definition",
      "metadata": {
        "id": "new_notebook_definition"
      },
      "source": [
        "## 🔹 **What is Arithmetic Operators**\n",
        "\n",
        "Arithmetic operators in Python are used to perform basic mathematical operations.\n",
        "\n",
        "The Modulus (%) and Exponentiation (**) operators in Python are used to perform more advanced arithmetic operations.\n",
        "\n",
        "\n",
        "*  % (Modulus): Returns the remainder when one number is divided by another.\n",
        "*   ** (Exponentiation): Raises the number to the power of the exponent.\n",
        "\n",
        "\n",
        "## 🔹 **Why We Use:**\n",
        "\n",
        "These operators are commonly used in scenarios where you need to find remainders (e.g., checking if a number is even or odd) or calculate powers (e.g., squaring a number or computing compound interest).\n"
      ]
    },
    {
      "cell_type": "markdown",
      "id": "new_notebook_examples_title",
      "metadata": {
        "id": "new_notebook_examples_title"
      },
      "source": [
        "# 🔹**Examples:**\n",
        "**Modulus (%):**\n",
        "\n",
        "The modulus operator calculates the remainder of a division.\n",
        "\n",
        "\n"
      ]
    },
    {
      "cell_type": "code",
      "execution_count": null,
      "id": "new_notebook_float_example_1",
      "metadata": {
        "id": "new_notebook_float_example_1"
      },
      "outputs": [],
      "source": [
        "result = 10 % 3\n",
        "print(result)  # Output: 1"
      ]
    },
    {
      "cell_type": "markdown",
      "id": "xbgOcRU4-zeB",
      "metadata": {
        "id": "xbgOcRU4-zeB"
      },
      "source": [
        "In this example, dividing 10 by 3 leaves a remainder of 1."
      ]
    },
    {
      "cell_type": "markdown",
      "id": "kA0j44Pe1vWO",
      "metadata": {
        "id": "kA0j44Pe1vWO"
      },
      "source": [
        "# 🔹 Examples\n",
        "## Exponentiation (**)\n",
        "\n",
        "The exponentiation operator (`**`) raises the left operand to the power of the right operand."
      ]
    },
    {
      "cell_type": "code",
      "execution_count": null,
      "id": "zDwcWVwQ15Hc",
      "metadata": {
        "id": "zDwcWVwQ15Hc"
      },
      "outputs": [],
      "source": [
        "result = 2 ** 3\n",
        "print(result)  # Output: 8\n"
      ]
    },
    {
      "cell_type": "markdown",
      "id": "i6VzwZI7_A1h",
      "metadata": {
        "id": "i6VzwZI7_A1h"
      },
      "source": [
        "Here, 2 raised to the power of 3 equals 8."
      ]
    },
    {
      "cell_type": "markdown",
      "id": "new_notebook_conclusion",
      "metadata": {
        "id": "new_notebook_conclusion"
      },
      "source": [
        "## 🔹 **Conclusion**\n",
        "\n",
        "The Modulus (%) and Exponentiation (**) operators are powerful tools in Python for solving problems that involve division remainders or exponential calculations. These operators help simplify tasks like checking divisibility and calculating powers, making them essential for a wide range of applications in both basic and advanced Python programming."
      ]
    }
  ],
  "metadata": {
    "colab": {
      "provenance": []
    },
    "kernelspec": {
      "display_name": "xeven_env",
      "language": "python",
      "name": "python3"
    },
    "language_info": {
      "codemirror_mode": {
        "name": "ipython",
        "version": 3
      },
      "file_extension": ".py",
      "mimetype": "text/x-python",
      "name": "python",
      "nbconvert_exporter": "python",
      "pygments_lexer": "ipython3",
      "version": "3.12.11"
    }
  },
  "nbformat": 4,
  "nbformat_minor": 5
}
