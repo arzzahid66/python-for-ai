{
  "cells": [
    {
      "cell_type": "markdown",
      "id": "new_notebook_title",
      "metadata": {},
      "source": [
        "# **📌 Python Comments: What are they and why use them?**\n",
        "\n",
        "\n",
        "**Course:** Python For AI\n"
      ]
    },
    {
      "cell_type": "markdown",
      "id": "new_notebook_image_1",
      "metadata": {},
      "source": [
        "<img src=\"https://ik.imagekit.io/gdo1kssnd9/Red%20and%20Black%20Modern%20Job%20Post%20Vacancy%20LinkedIn%20Post%20(1).jpg?updatedAt=1751487231658\" hight=1600 width=500>"
      ]
    },
    {
      "cell_type": "markdown",
      "id": "new_notebook_definition",
      "metadata": {},
      "source": [
        "## 🔹 **What are Comments?**\n",
        "\n",
        "In programming, comments are lines of text within a program's code that are ignored by the interpreter or compiler. They are meant for human readers to understand the code better. Think of them as notes you leave for yourself or other developers.\n",
        "\n",
        "Python, like many other programming languages, allows you to add comments to your code. These comments do not affect how the program runs; their sole purpose is to provide explanations and context.\n",
        "\n",
        "## 🔹 **Why Use Comments?**\n",
        "\n",
        "Comments are crucial for several reasons:\n",
        "\n",
        "*   **Readability:** They make your code easier to understand, especially for complex logic or non-obvious parts.\n",
        "*   **Maintainability:** When you revisit your code after some time, comments help you quickly recall what each section does. This is also vital for team collaboration.\n",
        "*   **Debugging:** You can temporarily 'comment out' lines of code to test different parts of your program without deleting them.\n",
        "*   **Documentation:** Comments serve as a form of internal documentation, explaining the purpose of variables, functions, classes, and algorithms.\n",
        "\n",
        "Python supports two main ways to write comments:\n",
        "\n",
        "*   **Single-line indicators:** These are lines that begin with a specific symbol.\n",
        "*   **Multi-line indicators (Docstrings):** These are typically enclosed in triple quotes (''' or \"\"\"). While technically string literals, they are commonly used as multi-line indicators or for documentation (docstrings) for modules, functions, classes, and methods.\n"
      ]
    },
    {
      "cell_type": "markdown",
      "id": "new_notebook_single_line_example_title",
      "metadata": {},
      "source": [
        "# 🔹**Examples:**\n",
        "\n",
        "\n"
      ]
    },
    {
      "cell_type": "code",
      "execution_count": 1,
      "id": "new_notebook_single_line_example_code",
      "metadata": {},
      "outputs": [
        {
          "name": "stdout",
          "output_type": "stream",
          "text": [
            "Welcome to Python!\n"
          ]
        }
      ],
      "source": [
        "# Print welcome message\n",
        "print(\"Welcome to Python!\")\n"
      ]
    },
    {
      "cell_type": "code",
      "execution_count": null,
      "id": "77bb0823",
      "metadata": {},
      "outputs": [],
      "source": [
        "# Get user input\n",
        "name = input(\"Enter your name: \")\n",
        "\n",
        "# Greet the user\n",
        "print(\"Hello\", name)"
      ]
    },
    {
      "cell_type": "markdown",
      "id": "new_notebook_conclusion",
      "metadata": {},
      "source": [
        "## 🔹 **Conclusion**\n",
        "\n",
        "Comments are an indispensable part of writing clean, understandable, and maintainable Python code. They serve as internal documentation, helping both the original developer and others who might read or work with the code in the future. By effectively using single-line indicators for brief notes and multi-line indicators (docstrings) for more extensive explanations, you can significantly improve the quality and clarity of your Python projects. Remember, good comments are for humans, not for the computer, and they make your code a pleasure to work with.\n"
      ]
    }
  ],
  "metadata": {
    "colab": {
      "provenance": []
    },
    "kernelspec": {
      "display_name": "venv",
      "language": "python",
      "name": "python3"
    },
    "language_info": {
      "codemirror_mode": {
        "name": "ipython",
        "version": 3
      },
      "file_extension": ".py",
      "mimetype": "text/x-python",
      "name": "python",
      "nbconvert_exporter": "python",
      "pygments_lexer": "ipython3",
      "version": "3.11.0"
    }
  },
  "nbformat": 4,
  "nbformat_minor": 5
}
