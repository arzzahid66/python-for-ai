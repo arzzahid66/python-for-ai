{
  "cells": [
    {
      "cell_type": "markdown",
      "id": "new_notebook_title",
      "metadata": {
        "id": "new_notebook_title"
      },
      "source": [
        "# 📌 Mastering Basic Math in Python: Arithmetic Operators (+, -, *, /)\n",
        "\n",
        "**Course:** Python For AI"
      ]
    },
    {
      "cell_type": "markdown",
      "id": "new_notebook_image_1",
      "metadata": {
        "id": "new_notebook_image_1"
      },
      "source": [
        "<img src=\"https://ik.imagekit.io/gdo1kssnd9/rthmatic%20operation.JPG?updatedAt=1752562724240\" hight=1600 width=500>\n"
      ]
    },
    {
      "cell_type": "markdown",
      "id": "new_notebook_definition",
      "metadata": {
        "id": "new_notebook_definition"
      },
      "source": [
        "## 🔹 **What is Arithmetic Operators**\n",
        "\n",
        "Arithmetic operators in Python are used to perform basic mathematical operations. The four main arithmetic operators are:\n",
        "\n",
        "\n",
        "*   +(Addition): Adds two numbers together.\n",
        "*   -(Subtraction): Subtracts one number from another.\n",
        "*   *(Multiplication): Multiplies two numbers.\n",
        "*   / (Division): Divides one number by another, returning a float.\n",
        "\n",
        "\n",
        "## 🔹 **Why We Use:**\n",
        "\n",
        "Arithmetic operators are essential for performing calculations in Python, whether for simple math, building algorithms, or solving real-world problems involving numbers.\n"
      ]
    },
    {
      "cell_type": "markdown",
      "id": "new_notebook_examples_title",
      "metadata": {
        "id": "new_notebook_examples_title"
      },
      "source": [
        "# 🔹**Examples:**\n",
        "**Addition (+)**\n",
        "\n",
        "Adds two numbers together.\n",
        "\n",
        "\n"
      ]
    },
    {
      "cell_type": "code",
      "execution_count": null,
      "id": "new_notebook_float_example_1",
      "metadata": {
        "id": "new_notebook_float_example_1"
      },
      "outputs": [],
      "source": [
        "result = 10 + 5\n",
        "print(result)  # Output: 15"
      ]
    },
    {
      "cell_type": "markdown",
      "id": "kA0j44Pe1vWO",
      "metadata": {
        "id": "kA0j44Pe1vWO"
      },
      "source": [
        "# 🔹**Examples:**\n",
        "**Subtraction (-)**\n",
        "\n",
        "Subtracts the right operand from the left."
      ]
    },
    {
      "cell_type": "code",
      "execution_count": null,
      "id": "zDwcWVwQ15Hc",
      "metadata": {
        "id": "zDwcWVwQ15Hc"
      },
      "outputs": [],
      "source": [
        "result = 10 - 5\n",
        "print(result)  # Output: 5"
      ]
    },
    {
      "cell_type": "markdown",
      "id": "mn3jgewb15lt",
      "metadata": {
        "id": "mn3jgewb15lt"
      },
      "source": [
        "# 🔹**Examples:**\n",
        "**Multiplication (*)**\n",
        "\n",
        "Multiplies two numbers."
      ]
    },
    {
      "cell_type": "code",
      "execution_count": null,
      "id": "okptSpHc2WD-",
      "metadata": {
        "id": "okptSpHc2WD-"
      },
      "outputs": [],
      "source": [
        "result = 10 * 5\n",
        "print(result)  # Output: 50"
      ]
    },
    {
      "cell_type": "markdown",
      "id": "snObbUmX2aLW",
      "metadata": {
        "id": "snObbUmX2aLW"
      },
      "source": [
        "# 🔹**Examples:**\n",
        "**Division (/)**\n",
        "\n",
        "Divides the left operand by the right operand, and returns a float."
      ]
    },
    {
      "cell_type": "code",
      "execution_count": null,
      "id": "5mdjrsxw2iwW",
      "metadata": {
        "id": "5mdjrsxw2iwW"
      },
      "outputs": [],
      "source": [
        "result = 10 / 5\n",
        "print(result)  # Output: 2.0"
      ]
    },
    {
      "cell_type": "markdown",
      "id": "new_notebook_conclusion",
      "metadata": {
        "id": "new_notebook_conclusion"
      },
      "source": [
        "## 🔹 **Conclusion**\n",
        "\n",
        "Arithmetic operators in Python provide the basic functionality needed to perform essential calculations. Whether adding, subtracting, multiplying, or dividing, these operators allow you to solve a wide range of mathematical problems easily and efficiently in your Python programs.\n"
      ]
    }
  ],
  "metadata": {
    "colab": {
      "provenance": []
    },
    "kernelspec": {
      "display_name": "xeven_env",
      "language": "python",
      "name": "python3"
    },
    "language_info": {
      "codemirror_mode": {
        "name": "ipython",
        "version": 3
      },
      "file_extension": ".py",
      "mimetype": "text/x-python",
      "name": "python",
      "nbconvert_exporter": "python",
      "pygments_lexer": "ipython3",
      "version": "3.12.11"
    }
  },
  "nbformat": 4,
  "nbformat_minor": 5
}
