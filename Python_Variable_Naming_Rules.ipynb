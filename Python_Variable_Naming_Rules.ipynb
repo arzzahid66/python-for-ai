{
 "cells": [
  {
   "cell_type": "markdown",
   "id": "2530ed3f",
   "metadata": {},
   "source": [
    "# **Python Variable Naming Rules**\n",
    "**Course:** Python For AI\n"
   ]
  },
  {
   "cell_type": "markdown",
   "id": "ccca9a61",
   "metadata": {},
   "source": [
    "## 🔹 **Definition**\n",
    "\n",
    "When creating variables in Python, you must follow specific naming rules. These rules help the code stay clean and avoid errors.\n",
    "\n",
    "Here are the rules:\n",
    "\n",
    "Variable names can contain letters (a–z, A–Z), digits (0–9), and underscores _.\n",
    "✅ Examples: userName, age_2, _value\n",
    "\n",
    "Variable names cannot start with a digit.\n",
    "❌ Example: 2name is invalid\n",
    "\n",
    "Variable names cannot use Python reserved keywords.\n",
    "❌ Examples: if, for, while — these are keywords used by Python\n",
    "\n",
    "Variable names are case-sensitive.\n",
    "✅ name and Name are two different variables\n",
    "\n",
    "Use meaningful and readable names (best practice).\n",
    "✅ data_value is better than dv\n",
    "\n"
   ]
  },
  {
   "cell_type": "markdown",
   "id": "04a12e28",
   "metadata": {},
   "source": [
    "# 🔹**Valid Examples (Allowed)**\n",
    "✅ **ALLOWED in variable names:**\n",
    "\n",
    " - Letters (a-z, A-Z)\n",
    " - Numbers (0-9) - but not at start\n",
    " - Underscore (_)\n"
   ]
  },
  {
   "cell_type": "code",
   "execution_count": null,
   "id": "aee927b1",
   "metadata": {
    "vscode": {
     "languageId": "plaintext"
    }
   },
   "outputs": [],
   "source": [
    "name = \"John\"        # stores a name\n",
    "age2 = 25            # stores age\n",
    "_user_id = 123       # stores user ID "
   ]
  },
  {
   "cell_type": "markdown",
   "id": "b9005db1",
   "metadata": {},
   "source": [
    "# 🔹 **Output for Valid Variables**"
   ]
  },
  {
   "cell_type": "code",
   "execution_count": null,
   "id": "fe5dce71",
   "metadata": {
    "vscode": {
     "languageId": "plaintext"
    }
   },
   "outputs": [],
   "source": [
    "print(name)\n",
    "print(age2)\n",
    "print(_user_id)"
   ]
  },
  {
   "cell_type": "markdown",
   "id": "f051fe3f",
   "metadata": {},
   "source": [
    "# 🔹**Invalid Examples (Not Allowed)**\n",
    "❌ **NOT ALLOWED:**\n",
    "- Starting with number\n",
    "- Using spaces\n",
    "- Special characters (@, !, $ etc.)\n",
    "- Python keywords (if, for, while etc.)"
   ]
  },
  {
   "cell_type": "code",
   "execution_count": null,
   "id": "0a631bfd",
   "metadata": {
    "vscode": {
     "languageId": "plaintext"
    }
   },
   "outputs": [],
   "source": [
    "2bad = \"error\"      # Can't start with number\n",
    "my-name = \"error\"   # No hyphens\n",
    "$price = 9.99       # No special symbols\n",
    "for = \"loop word\"   # Can't use Python keywords"
   ]
  },
  {
   "cell_type": "markdown",
   "id": "46d37f89",
   "metadata": {},
   "source": [
    "# 🔹 **Output for InValid Variables**"
   ]
  },
  {
   "cell_type": "code",
   "execution_count": null,
   "id": "f4125dc0",
   "metadata": {
    "vscode": {
     "languageId": "plaintext"
    }
   },
   "outputs": [],
   "source": [
    "print(2bad)       \n",
    "print(my-name)    \n",
    "print($price)     \n",
    "print(for)    "
   ]
  },
  {
   "cell_type": "markdown",
   "id": "d06936eb",
   "metadata": {},
   "source": [
    "## 🔹 **Conclusion**\n",
    "\n",
    "In Python, it's important to follow proper variable naming rules to avoid errors in your code. A variable name should start with a letter or underscore and can include letters, numbers, and underscores—but never special characters or spaces. You should also avoid using Python’s reserved keywords like for, if, or while, as they have special meanings. Always use clear and meaningful names so your code stays easy to read, understand, and debug."
   ]
  }
 ],
 "metadata": {
  "language_info": {
   "name": "python"
  }
 },
 "nbformat": 4,
 "nbformat_minor": 5
}
