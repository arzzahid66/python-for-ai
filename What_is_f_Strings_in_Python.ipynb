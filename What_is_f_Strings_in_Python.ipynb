{
  "cells": [
    {
      "cell_type": "markdown",
      "id": "new_notebook_title",
      "metadata": {
        "id": "new_notebook_title"
      },
      "source": [
        "# **📌 Python f-String: A Powerful Way to Format Strings in Python**\n",
        "\n",
        "\n",
        "**Course:** Python For AI\n"
      ]
    },
    {
      "cell_type": "markdown",
      "id": "new_notebook_image_1",
      "metadata": {
        "id": "new_notebook_image_1"
      },
      "source": [
        "<img src=\"https://ik.imagekit.io/gdo1kssnd9/Red%20and%20Black%20Modern%20Job%20Post%20Vacancy%20LinkedIn%20Post%20(3).jpg?updatedAt=1752330102463\" hight=1600 width=500>\n"
      ]
    },
    {
      "cell_type": "markdown",
      "id": "new_notebook_definition",
      "metadata": {
        "id": "new_notebook_definition"
      },
      "source": [
        "## 🔹 **What is f-String?**\n",
        "\n",
        "f-Strings, introduced in Python, offer a concise and efficient way to format strings. They are prefixed with the letter f or F and use curly braces {} to embed expressions inside string literals. The expressions inside the curly braces are evaluated at runtime and formatted using the specified format string.\n",
        "\n",
        "\n",
        "\n",
        "## 🔹 **Usage**\n",
        "\n",
        "f-Strings allow for easy insertion of variables and expressions directly into string literals, making it simpler and more readable than older methods like % formatting or str.format().\n",
        "\n",
        "The syntax for an f-string is:\n",
        "\n"
      ]
    },
    {
      "cell_type": "code",
      "execution_count": null,
      "id": "6XdoI3k_1Ign",
      "metadata": {
        "id": "6XdoI3k_1Ign"
      },
      "outputs": [],
      "source": [
        "f\"some text {expression} more text\""
      ]
    },
    {
      "cell_type": "markdown",
      "id": "9VjaKcdA1N9_",
      "metadata": {
        "id": "9VjaKcdA1N9_"
      },
      "source": [
        "Where expression can be a variable, function call, or even a complex expression."
      ]
    },
    {
      "cell_type": "markdown",
      "id": "new_notebook_examples_title",
      "metadata": {
        "id": "new_notebook_examples_title"
      },
      "source": [
        "# 🔹**Examples:**\n",
        "\n"
      ]
    },
    {
      "cell_type": "code",
      "execution_count": null,
      "id": "new_notebook_float_example_1",
      "metadata": {
        "id": "new_notebook_float_example_1"
      },
      "outputs": [],
      "source": [
        "name = \"Alice\"\n",
        "age = 30\n",
        "greeting = f\"Hello, {name}! You are {age} years old.\"\n",
        "print(greeting)\n",
        "# Output: Hello, Alice! You are 30 years old."
      ]
    },
    {
      "cell_type": "markdown",
      "id": "M00idvXtzXx2",
      "metadata": {
        "id": "M00idvXtzXx2"
      },
      "source": [
        "In this example, the f-string f\"Hello, {name}! You are {age} years old.\" inserts the values of name and age directly into the string."
      ]
    },
    {
      "cell_type": "markdown",
      "id": "UKlIIfJceq7P",
      "metadata": {
        "id": "UKlIIfJceq7P"
      },
      "source": [
        "# 🔹**Examples:**"
      ]
    },
    {
      "cell_type": "code",
      "execution_count": null,
      "id": "aV4Ht854eqER",
      "metadata": {
        "id": "aV4Ht854eqER"
      },
      "outputs": [],
      "source": [
        "width = 10\n",
        "height = 5\n",
        "area = f\"The area of the rectangle is {width * height} square units.\"\n",
        "print(area)\n",
        "# Output: The area of the rectangle is 50 square units.\n"
      ]
    },
    {
      "cell_type": "markdown",
      "id": "0rTYYivFzgL2",
      "metadata": {
        "id": "0rTYYivFzgL2"
      },
      "source": [
        "Here, the f-string evaluates the expression width * height and inserts the result directly into the string.\n",
        "\n"
      ]
    },
    {
      "cell_type": "markdown",
      "id": "new_notebook_conclusion",
      "metadata": {
        "id": "new_notebook_conclusion"
      },
      "source": [
        "## 🔹 **Conclusion**\n",
        "\n",
        "f-Strings provide a cleaner, more readable way to embed expressions into strings in Python. They offer better performance compared to the older string formatting methods and allow for complex expressions, including method calls, calculations, and more, all inline within the string itself.\n"
      ]
    }
  ],
  "metadata": {
    "colab": {
      "provenance": []
    },
    "kernelspec": {
      "display_name": "xeven_env",
      "language": "python",
      "name": "python3"
    },
    "language_info": {
      "codemirror_mode": {
        "name": "ipython",
        "version": 3
      },
      "file_extension": ".py",
      "mimetype": "text/x-python",
      "name": "python",
      "nbconvert_exporter": "python",
      "pygments_lexer": "ipython3",
      "version": "3.12.11"
    }
  },
  "nbformat": 4,
  "nbformat_minor": 5
}
