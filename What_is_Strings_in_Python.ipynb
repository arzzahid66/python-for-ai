{
 "cells": [
  {
   "cell_type": "markdown",
   "id": "new_notebook_title",
   "metadata": {
    "id": "new_notebook_title"
   },
   "source": [
    "# 📌 Python Strings Fundamentals: What are Strings in Python?\n",
    "\n",
    "\n",
    "**Course:** Python For AI"
   ]
  },
  {
   "cell_type": "markdown",
   "id": "new_notebook_image_1",
   "metadata": {
    "id": "new_notebook_image_1"
   },
   "source": [
    "<img src=\"https://ik.imagekit.io/gdo1kssnd9/Red%20and%20Black%20Modern%20Job%20Post%20Vacancy%20LinkedIn%20Post%20(2).jpg?updatedAt=1752241045586\" hight=1600 width=500>\n"
   ]
  },
  {
   "cell_type": "markdown",
   "id": "new_notebook_definition",
   "metadata": {
    "id": "new_notebook_definition"
   },
   "source": [
    "## 🔹 **What is a String?**\n",
    "\n",
    "A string is a sequence of characters, which could be letters, numbers, symbols, or spaces, used to represent text in programming. For example, \"Hello, World!\" is a string because it is made up of characters enclosed in quotation marks.\n",
    "\n",
    "\n",
    "## 🔹 **Why Use Strings?**\n",
    "\n",
    "Strings are essential because they help store and manipulate text data. We use strings to handle user inputs, display messages, store names, addresses, and anything that involves text. Without strings, we wouldn't be able to process or display readable text in programs.\n",
    "## 🔹 **Types of Strings?**\n",
    "In programming, strings are used to represent text. There are different types of strings in Python, which help developers to handle text in various ways. Below are the three basic types of strings:\n",
    "\n"
   ]
  },
  {
   "cell_type": "markdown",
   "id": "d_-kixvNdrOx",
   "metadata": {
    "id": "d_-kixvNdrOx"
   },
   "source": [
    "## **1. Single Quote String**"
   ]
  },
  {
   "cell_type": "markdown",
   "id": "new_notebook_examples_title",
   "metadata": {
    "id": "new_notebook_examples_title"
   },
   "source": [
    "# 🔹**Examples:**\n",
    "\n"
   ]
  },
  {
   "cell_type": "code",
   "execution_count": null,
   "id": "new_notebook_float_example_1",
   "metadata": {
    "id": "new_notebook_float_example_1"
   },
   "outputs": [],
   "source": [
    "single_quote_string = 'Hello, World!'\n",
    "print(single_quote_string)\n"
   ]
  },
  {
   "cell_type": "markdown",
   "id": "4V5zYPhQeZII",
   "metadata": {
    "id": "4V5zYPhQeZII"
   },
   "source": [
    "## **2. Double Quote String**"
   ]
  },
  {
   "cell_type": "markdown",
   "id": "UKlIIfJceq7P",
   "metadata": {
    "id": "UKlIIfJceq7P"
   },
   "source": [
    "# 🔹**Examples:**"
   ]
  },
  {
   "cell_type": "code",
   "execution_count": null,
   "id": "aV4Ht854eqER",
   "metadata": {
    "id": "aV4Ht854eqER"
   },
   "outputs": [],
   "source": [
    "double_quote_string = \"Welcome to the world of programming!\"\n",
    "print(double_quote_string)\n"
   ]
  },
  {
   "cell_type": "markdown",
   "id": "xluy_-tPewqQ",
   "metadata": {
    "id": "xluy_-tPewqQ"
   },
   "source": [
    "## **3. Multi-line String**\n",
    "A string that spans multiple lines, enclosed in triple quotes (''' ''' or \"\"\" \"\"\")."
   ]
  },
  {
   "cell_type": "markdown",
   "id": "ZiVgnpCze9ZH",
   "metadata": {
    "id": "ZiVgnpCze9ZH"
   },
   "source": [
    "# 🔹**Examples:**"
   ]
  },
  {
   "cell_type": "code",
   "execution_count": null,
   "id": "mR1-xqWme-tQ",
   "metadata": {
    "id": "mR1-xqWme-tQ"
   },
   "outputs": [],
   "source": [
    "multi_line_string = '''This is a\n",
    "multi-line string.\n",
    "It can span\n",
    "across multiple lines.'''\n",
    "print(multi_line_string)\n"
   ]
  },
  {
   "cell_type": "markdown",
   "id": "new_notebook_conclusion",
   "metadata": {
    "id": "new_notebook_conclusion"
   },
   "source": [
    "## 🔹 **Conclusion**\n",
    "\n",
    "In conclusion, strings are crucial in programming for handling text. The three main types are single quote strings, double quote strings, and multi-line strings. Single and double quotes are used for short text, while multi-line strings allow text to span multiple lines, preserving formatting. Choosing the right string type helps make the code cleaner and more efficient.\n"
   ]
  }
 ],
 "metadata": {
  "colab": {
   "provenance": []
  },
  "kernelspec": {
   "display_name": "xeven_env",
   "language": "python",
   "name": "python3"
  },
  "language_info": {
   "codemirror_mode": {
    "name": "ipython",
    "version": 3
   },
   "file_extension": ".py",
   "mimetype": "text/x-python",
   "name": "python",
   "nbconvert_exporter": "python",
   "pygments_lexer": "ipython3",
   "version": "3.12.11"
  }
 },
 "nbformat": 4,
 "nbformat_minor": 5
}
